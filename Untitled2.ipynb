{
  "nbformat": 4,
  "nbformat_minor": 0,
  "metadata": {
    "colab": {
      "provenance": [],
      "authorship_tag": "ABX9TyNbSNugiAAC2vtRu8GmCKyE",
      "include_colab_link": true
    },
    "kernelspec": {
      "name": "python3",
      "display_name": "Python 3"
    },
    "language_info": {
      "name": "python"
    }
  },
  "cells": [
    {
      "cell_type": "markdown",
      "metadata": {
        "id": "view-in-github",
        "colab_type": "text"
      },
      "source": [
        "<a href=\"https://colab.research.google.com/github/YoungHo-Kim21/Python_data_1.0/blob/main/Untitled2.ipynb\" target=\"_parent\"><img src=\"https://colab.research.google.com/assets/colab-badge.svg\" alt=\"Open In Colab\"/></a>"
      ]
    },
    {
      "cell_type": "code",
      "execution_count": null,
      "metadata": {
        "colab": {
          "base_uri": "https://localhost:8080/",
          "height": 486
        },
        "id": "VlzZ9nXOJwP2",
        "outputId": "069017a0-04a0-41b7-8174-94292feb7c48"
      },
      "outputs": [
        {
          "output_type": "stream",
          "name": "stderr",
          "text": [
            "/usr/local/lib/python3.11/dist-packages/IPython/core/pylabtools.py:151: UserWarning: Glyph 45824 (\\N{HANGUL SYLLABLE DAE}) missing from font(s) DejaVu Sans.\n",
            "  fig.canvas.print_figure(bytes_io, **kw)\n"
          ]
        },
        {
          "output_type": "display_data",
          "data": {
            "text/plain": [
              "<Figure size 640x480 with 1 Axes>"
            ],
            "image/png": "[encoded data removed]"
          },
          "metadata": {}
        }
      ],
      "source": [
        "import matplotlib.pyplot as plt\n",
        "import pandas as pd\n",
        "customer_data = {\n",
        "  '성별': ['남성', '여성', '남성', '여성', '남성', '여성', '남성', '여성', '남성', '여성'],\n",
        "  '연령대': ['10대', '10대', '20대', '20대', '30대', '30대', '40대', '40대', '50대', '50대'],\n",
        "  '지역': ['서울', '서울', '부산', '부산', '대구', '대구', '광주', '광주', '인천', '인천'],\n",
        "  '고객 수': [300, 250, 400, 350, 500, 450, 200, 300, 150, 200],\n",
        "  '평균 구매 금액': [30000, 25000, 45000, 40000, 55000, 50000, 60000, 55000, 35000, 30000]\n",
        "}\n",
        "df_customer = pd.DataFrame(customer_data)\n",
        "df = df_customer.groupby(['성별', '연령대']).agg({'고객 수': 'sum', '평균 구매 금액':'mean'}).reset_index()\n",
        "\n",
        "# 기본 막대 그래프\n",
        "plt.bar(df['연령대'].unique(), df.groupby(['연령대']).agg({'고객 수':'sum'})['고객 수'],color='skyblue')\n",
        "\n",
        "male_data = df[df['성별']=='남성']\n",
        "female_data = df[df['성별']=='여성']\n",
        "\n",
        "plt.bar(male_data['연령대'], male_data['고객 수'], color = 'blue')\n",
        "plt.bar(female_data['연령대'], female_data['고객 수'], bottom = male_data['고객 수'],color='pink')\n",
        "plt.show()"
      ]
    }
  ]
}